{
 "cells": [
  {
   "cell_type": "code",
   "execution_count": 2,
   "id": "e45249f4",
   "metadata": {},
   "outputs": [
    {
     "name": "stdout",
     "output_type": "stream",
     "text": [
      "Requirement already satisfied: watchdog in c:\\users\\smhrd\\anaconda3\\lib\\site-packages (2.1.6)\n"
     ]
    }
   ],
   "source": [
    "!pip install watchdog"
   ]
  },
  {
   "cell_type": "code",
   "execution_count": 3,
   "id": "374b72b0",
   "metadata": {},
   "outputs": [
    {
     "name": "stdout",
     "output_type": "stream",
     "text": [
      "Requirement already satisfied: watchdog in c:\\users\\smhrd\\anaconda3\\lib\\site-packages (4.0.1)\n"
     ]
    }
   ],
   "source": [
    "!pip install --upgrade watchdog"
   ]
  },
  {
   "cell_type": "code",
   "execution_count": 5,
   "id": "73eb6e5d",
   "metadata": {
    "collapsed": true
   },
   "outputs": [
    {
     "name": "stdout",
     "output_type": "stream",
     "text": [
      "Requirement already satisfied: flask-cors in c:\\users\\smhrd\\anaconda3\\lib\\site-packages (4.0.0)\n",
      "Requirement already satisfied: Flask>=0.9 in c:\\users\\smhrd\\anaconda3\\lib\\site-packages (from flask-cors) (3.0.3)\n",
      "Requirement already satisfied: Werkzeug>=3.0.0 in c:\\users\\smhrd\\anaconda3\\lib\\site-packages (from Flask>=0.9->flask-cors) (3.0.3)\n",
      "Requirement already satisfied: Jinja2>=3.1.2 in c:\\users\\smhrd\\anaconda3\\lib\\site-packages (from Flask>=0.9->flask-cors) (3.1.2)\n",
      "Requirement already satisfied: itsdangerous>=2.1.2 in c:\\users\\smhrd\\anaconda3\\lib\\site-packages (from Flask>=0.9->flask-cors) (2.2.0)\n",
      "Requirement already satisfied: click>=8.1.3 in c:\\users\\smhrd\\anaconda3\\lib\\site-packages (from Flask>=0.9->flask-cors) (8.1.7)\n",
      "Requirement already satisfied: blinker>=1.6.2 in c:\\users\\smhrd\\anaconda3\\lib\\site-packages (from Flask>=0.9->flask-cors) (1.8.2)\n",
      "Requirement already satisfied: colorama in c:\\users\\smhrd\\anaconda3\\lib\\site-packages (from click>=8.1.3->Flask>=0.9->flask-cors) (0.4.6)\n",
      "Requirement already satisfied: MarkupSafe>=2.0 in c:\\users\\smhrd\\anaconda3\\lib\\site-packages (from Jinja2>=3.1.2->Flask>=0.9->flask-cors) (2.1.1)\n"
     ]
    }
   ],
   "source": [
    "!pip install flask-cors"
   ]
  },
  {
   "cell_type": "code",
   "execution_count": 6,
   "id": "0e681d0f",
   "metadata": {
    "collapsed": true
   },
   "outputs": [
    {
     "name": "stdout",
     "output_type": "stream",
     "text": [
      " * Serving Flask app '__main__'\n",
      " * Debug mode: on\n"
     ]
    },
    {
     "name": "stderr",
     "output_type": "stream",
     "text": [
      "WARNING: This is a development server. Do not use it in a production deployment. Use a production WSGI server instead.\n",
      " * Running on http://127.0.0.1:5000\n",
      "Press CTRL+C to quit\n",
      "127.0.0.1 - - [08/Jun/2024 17:44:30] \"GET / HTTP/1.1\" 404 -\n",
      "127.0.0.1 - - [08/Jun/2024 17:44:58] \"GET /api/system_metrics HTTP/1.1\" 200 -\n",
      "127.0.0.1 - - [08/Jun/2024 17:44:59] \"GET /api/system_metrics HTTP/1.1\" 200 -\n",
      "127.0.0.1 - - [08/Jun/2024 17:45:21] \"GET /api/system_metrics HTTP/1.1\" 200 -\n",
      "127.0.0.1 - - [08/Jun/2024 17:46:05] \"GET /api/system_metrics HTTP/1.1\" 200 -\n",
      "127.0.0.1 - - [08/Jun/2024 17:47:01] \"GET /api/system_metrics HTTP/1.1\" 200 -\n",
      "127.0.0.1 - - [08/Jun/2024 17:54:24] \"GET /api/system_metrics HTTP/1.1\" 200 -\n",
      "127.0.0.1 - - [08/Jun/2024 18:21:34] \"GET /api/system_metrics HTTP/1.1\" 200 -\n",
      "127.0.0.1 - - [08/Jun/2024 18:24:43] \"GET /api/system_metrics HTTP/1.1\" 200 -\n",
      "127.0.0.1 - - [08/Jun/2024 18:25:39] \"GET /api/system_metrics HTTP/1.1\" 200 -\n",
      "127.0.0.1 - - [08/Jun/2024 18:26:32] \"GET /api/system_metrics HTTP/1.1\" 200 -\n",
      "127.0.0.1 - - [08/Jun/2024 18:49:32] \"GET /api/system_metrics HTTP/1.1\" 200 -\n",
      "127.0.0.1 - - [08/Jun/2024 18:50:03] \"GET /api/system_metrics HTTP/1.1\" 200 -\n",
      "127.0.0.1 - - [08/Jun/2024 18:50:38] \"GET /api/system_metrics HTTP/1.1\" 200 -\n",
      "127.0.0.1 - - [08/Jun/2024 18:50:42] \"GET /api/system_metrics HTTP/1.1\" 200 -\n",
      "127.0.0.1 - - [08/Jun/2024 19:43:13] \"GET /api/system_metrics HTTP/1.1\" 200 -\n",
      "127.0.0.1 - - [08/Jun/2024 19:49:54] \"GET /api/system_metrics HTTP/1.1\" 200 -\n",
      "127.0.0.1 - - [08/Jun/2024 19:58:45] \"GET /api/system_metrics HTTP/1.1\" 200 -\n",
      "127.0.0.1 - - [08/Jun/2024 19:58:49] \"GET /api/system_metrics HTTP/1.1\" 200 -\n",
      "127.0.0.1 - - [08/Jun/2024 20:18:20] \"GET /api/system_metrics HTTP/1.1\" 200 -\n",
      "127.0.0.1 - - [08/Jun/2024 20:18:30] \"GET /api/system_metrics HTTP/1.1\" 200 -\n",
      "127.0.0.1 - - [08/Jun/2024 20:20:43] \"GET /api/system_metrics HTTP/1.1\" 200 -\n",
      "127.0.0.1 - - [08/Jun/2024 20:22:34] \"GET /api/system_metrics HTTP/1.1\" 200 -\n",
      "127.0.0.1 - - [08/Jun/2024 20:30:17] \"GET /api/system_metrics HTTP/1.1\" 200 -\n",
      "127.0.0.1 - - [08/Jun/2024 20:33:52] \"GET /api/system_metrics HTTP/1.1\" 200 -\n"
     ]
    }
   ],
   "source": [
    "from flask import Flask, send_from_directory, jsonify\n",
    "from flask_cors import CORS\n",
    "import psutil\n",
    "\n",
    "app = Flask(__name__, static_folder='build')\n",
    "CORS(app)  # 모든 도메인에 대해 CORS 허용\n",
    "\n",
    "@app.route('/')\n",
    "def serve():\n",
    "    return send_from_directory(app.static_folder, 'index.html')\n",
    "\n",
    "@app.route('/api/system_metrics', methods=['GET'])\n",
    "def get_system_metrics():\n",
    "    cpu_usage = psutil.cpu_percent(interval=1)\n",
    "    memory_info = psutil.virtual_memory()\n",
    "    disk_usage = psutil.disk_usage('/')\n",
    "\n",
    "    return jsonify({\n",
    "        \"cpu_usage\": cpu_usage,\n",
    "        \"memory_usage\": memory_info.percent,\n",
    "        \"disk_usage\": disk_usage.percent\n",
    "    })\n",
    "\n",
    "@app.route('/<path:path>')\n",
    "def static_proxy(path):\n",
    "    return send_from_directory(app.static_folder, path)\n",
    "\n",
    "if __name__ == '__main__':\n",
    "    app.run(debug=True, use_reloader=False)\n"
   ]
  },
  {
   "cell_type": "code",
   "execution_count": null,
   "id": "bddfb6bd",
   "metadata": {},
   "outputs": [],
   "source": []
  }
 ],
 "metadata": {
  "kernelspec": {
   "display_name": "Python 3 (ipykernel)",
   "language": "python",
   "name": "python3"
  },
  "language_info": {
   "codemirror_mode": {
    "name": "ipython",
    "version": 3
   },
   "file_extension": ".py",
   "mimetype": "text/x-python",
   "name": "python",
   "nbconvert_exporter": "python",
   "pygments_lexer": "ipython3",
   "version": "3.11.5"
  }
 },
 "nbformat": 4,
 "nbformat_minor": 5
}
